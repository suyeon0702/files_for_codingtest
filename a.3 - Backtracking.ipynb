{
 "cells": [
  {
   "cell_type": "code",
   "execution_count": 5,
   "metadata": {},
   "outputs": [
    {
     "name": "stdout",
     "output_type": "stream",
     "text": [
      "3\n",
      "[3]\n",
      "[1, 2]\n",
      "[2, 1]\n",
      "[1, 1, 1]\n",
      "4\n"
     ]
    }
   ],
   "source": [
    "n = int(input())\n",
    "count = []\n",
    "num = []\n",
    "\n",
    "def CheckNum(n): # 아름다운 수인지 확인\n",
    "    if sum(num) == n:\n",
    "        print(num)\n",
    "        count.append(1)\n",
    "        \n",
    "    \n",
    "def FindNum(cnt, length, n):\n",
    "    if cnt == length: # 길이만큼 찼을 때\n",
    "        CheckNum(n) # 아름다운 수인지 확인\n",
    "        return\n",
    "    \n",
    "    for j in range(1, n+1): # 1~n까지 돌려보기\n",
    "        num.append(j)\n",
    "        FindNum(cnt+1, length, n)\n",
    "        num.pop()\n",
    "\n",
    "for h in range(1, n+1): # 길이를 1~n으로 돌려보기\n",
    "    FindNum(0, h, n)\n",
    "        \n",
    "print(sum(count))"
   ]
  },
  {
   "cell_type": "code",
   "execution_count": 4,
   "metadata": {},
   "outputs": [
    {
     "name": "stdout",
     "output_type": "stream",
     "text": [
      "c-a*b\n",
      "['c', 'a', 'b'] ['-', '*']\n"
     ]
    }
   ],
   "source": [
    "n = input()\n",
    "alp = []\n",
    "cal = []\n",
    "for i in range(0, len(n), 2):\n",
    "    alp.append(n[i])\n",
    "for i in range(1, len(n), 2):\n",
    "    cal.append(n[i])\n",
    "    \n",
    "def Calculate(x, y, s):\n",
    "    if s == '+':\n",
    "        return x + y\n",
    "    if s == '-':\n",
    "        return x - y\n",
    "    if s == '*':\n",
    "        return x * y\n",
    "\n",
    "def FindNum(cnt, length, n):\n",
    "    if cnt == length:\n",
    "        for i in range(length-1):\n",
    "            Calculate(num[i], num[i+1], cal[i])\n",
    "        return \n",
    "    \n",
    "    for j in range(1, n+1): \n",
    "        num.append(j)\n",
    "        FindNum(cnt+1, length, n)\n",
    "        num.pop()\n",
    "        \n",
    "for h in range(1, n+1): # 길이를 1~n으로 돌려보기\n",
    "    FindNum(0, h, n)"
   ]
  }
 ],
 "metadata": {
  "kernelspec": {
   "display_name": "Python 3",
   "language": "python",
   "name": "python3"
  },
  "language_info": {
   "codemirror_mode": {
    "name": "ipython",
    "version": 3
   },
   "file_extension": ".py",
   "mimetype": "text/x-python",
   "name": "python",
   "nbconvert_exporter": "python",
   "pygments_lexer": "ipython3",
   "version": "3.7.6"
  }
 },
 "nbformat": 4,
 "nbformat_minor": 4
}
