{
 "cells": [
  {
   "cell_type": "code",
   "execution_count": 18,
   "metadata": {},
   "outputs": [
    {
     "name": "stdout",
     "output_type": "stream",
     "text": [
      "3\n",
      "1 1 1\n",
      "1 1 1\n",
      "1 1 1\n",
      "1\n"
     ]
    }
   ],
   "source": [
    "n = int(input())\n",
    "a = [list(map(int, input().split())) for _ in range(n)]\n",
    "cnt = 0\n",
    "min_num = 1000001\n",
    "min_lst = []\n",
    "\n",
    "def InRange(x, y):\n",
    "    return 0 <= x and x < n and 0 <= y and y < n\n",
    "\n",
    "def Go(x, y, mini):\n",
    "    global cnt\n",
    "    global min_num\n",
    "    \n",
    "    if cnt == n*2 -1:\n",
    "        min_num = min(mini, min_num)\n",
    "        min_lst.append(min_num)\n",
    "        cnt -= 1\n",
    "        return\n",
    "        \n",
    "    dxs = [1, 0]\n",
    "    dys = [0, 1]\n",
    "    \n",
    "    for dx, dy in zip(dxs, dys):\n",
    "        new_x = x + dx\n",
    "        new_y = y + dy\n",
    "        \n",
    "        \n",
    "        \n",
    "        if InRange(new_x, new_y):\n",
    "            mini = min(a[x][y], a[new_x][new_y])\n",
    "            cnt += 1\n",
    "            Go(new_x, new_y, mini)\n",
    "            \n",
    "Go(0, 0, a[0][0])\n",
    "\n",
    "if len(min_lst) == 1:\n",
    "    print(min_lst[0])\n",
    "else:\n",
    "    print(max(min_lst))"
   ]
  },
  {
   "cell_type": "code",
   "execution_count": null,
   "metadata": {},
   "outputs": [],
   "source": []
  },
  {
   "cell_type": "code",
   "execution_count": null,
   "metadata": {},
   "outputs": [],
   "source": []
  },
  {
   "cell_type": "code",
   "execution_count": null,
   "metadata": {},
   "outputs": [],
   "source": []
  },
  {
   "cell_type": "code",
   "execution_count": null,
   "metadata": {},
   "outputs": [],
   "source": []
  },
  {
   "cell_type": "code",
   "execution_count": null,
   "metadata": {},
   "outputs": [],
   "source": []
  },
  {
   "cell_type": "code",
   "execution_count": null,
   "metadata": {},
   "outputs": [],
   "source": []
  },
  {
   "cell_type": "code",
   "execution_count": 5,
   "metadata": {},
   "outputs": [
    {
     "name": "stdout",
     "output_type": "stream",
     "text": [
      "7\n",
      "13\n"
     ]
    }
   ],
   "source": [
    "lst = []\n",
    "lst.append(0)\n",
    "\n",
    "def fibo(f1, f2, n):\n",
    "    if n == 0:\n",
    "        return\n",
    "    \n",
    "    f3 = f1 + f2\n",
    "    lst.append(f3)\n",
    "    fibo(f2, f3, n-1)\n",
    "    \n",
    "\n",
    "n = int(input())\n",
    "a1 = 1\n",
    "a2 = 1\n",
    "lst.append(a1)\n",
    "lst.append(a2)\n",
    "fibo(a1, a2, n)\n",
    "print(lst[n])"
   ]
  },
  {
   "cell_type": "code",
   "execution_count": 9,
   "metadata": {},
   "outputs": [
    {
     "name": "stdout",
     "output_type": "stream",
     "text": [
      "2\n",
      "[1, 1]\n"
     ]
    }
   ],
   "source": [
    "n = int(input())\n",
    "nodes = [i for i in range(n+1)]\n",
    "tot_cnt = []\n",
    "dp = [0 for _ in range(n+1)]\n",
    "\n",
    "dp[0] = 1\n",
    "dp[1] = 1\n",
    "\n",
    "def Count(root, lst):\n",
    "    left_cnt = 0\n",
    "    right_cnt = 0\n",
    "    cnt = 0\n",
    "    root_i = lst.index(root)\n",
    "    \n",
    "    if len(lst) == 0 or len(lst) == 1:\n",
    "        return 1\n",
    "    \n",
    "    left = lst[:root_i]\n",
    "    right = lst[root_i+1:]\n",
    "    \n",
    "    if len(left) == 0:\n",
    "        left_cnt = 1\n",
    "    if len(right) == 0:\n",
    "        right_cnt = 1\n",
    "    \n",
    "    for l in left:\n",
    "        if dp[len(left)] != 0:\n",
    "            left_cnt = dp[len(left)]\n",
    "        else:\n",
    "            left_cnt += Count(l, left)\n",
    "    if dp[len(left)] == 0:\n",
    "        dp[len(left)] = left_cnt\n",
    "\n",
    "    for r in right:\n",
    "        if dp[len(right)] != 0:\n",
    "            right_cnt = dp[len(right)]\n",
    "        else:\n",
    "            right_cnt += Count(r, right)\n",
    "    if dp[len(right)] == 0:\n",
    "        dp[len(right)] = right_cnt\n",
    "    \n",
    "    return left_cnt * right_cnt\n",
    "\n",
    "        \n",
    "for i in range(1, n+1):\n",
    "    root = nodes[i]\n",
    "    tot_cnt.append(Count(root, nodes[1:]))\n",
    "    \n",
    "\n",
    "print(sum(tot_cnt))"
   ]
  },
  {
   "cell_type": "code",
   "execution_count": 9,
   "metadata": {},
   "outputs": [
    {
     "name": "stdout",
     "output_type": "stream",
     "text": [
      "3\n",
      "1 2 3\n",
      "3 2 1\n",
      "4 2 1\n",
      "11\n"
     ]
    }
   ],
   "source": [
    "n = int(input())\n",
    "a = [list(map(int, input().split())) for _ in range(n)]\n",
    "dp = [[-1 for _ in range(n)] for _ in range(n)]\n",
    "\n",
    "def Init():\n",
    "    dp[0][0] = a[0][0]\n",
    "    \n",
    "    for i in range(1, n):\n",
    "        dp[i][0] = dp[i-1][0] + a[i][0]\n",
    "        \n",
    "    for i in range(1, n):\n",
    "        dp[0][i] = dp[0][i-1] + a[0][i]\n",
    "    \n",
    "Init()\n",
    "\n",
    "for i in range(1, n):\n",
    "    for j in range(1, n):\n",
    "        dp[i][j] = max(dp[i-1][j], dp[i][j-1]) + a[i][j]\n",
    "        \n",
    "ans = -7000\n",
    "for k in range(n):\n",
    "    ans = max(ans, dp[n-1][k])\n",
    "    \n",
    "print(ans)"
   ]
  },
  {
   "cell_type": "code",
   "execution_count": null,
   "metadata": {},
   "outputs": [],
   "source": [
    "n = int(input())\n",
    "a = [list(map(int, input().split())) for _ in range(n)]\n",
    "min_lst = []\n",
    "\n",
    "for i in range(n):\n",
    "    for j in range(n):\n",
    "        "
   ]
  },
  {
   "cell_type": "code",
   "execution_count": 17,
   "metadata": {},
   "outputs": [
    {
     "name": "stdout",
     "output_type": "stream",
     "text": [
      "5\n",
      "1 3 2 3 2\n",
      "3\n"
     ]
    }
   ],
   "source": [
    "# 최대 증가 부분 수열\n",
    "import sys\n",
    "\n",
    "INT_MIN = -1 * sys.maxsize\n",
    "\n",
    "n = int(input())\n",
    "\n",
    "dp = [INT_MIN for _ in range(n+1)]\n",
    "a = [0 for _ in range(n+1)]\n",
    "\n",
    "given_seq = list(map(int, input().split()))\n",
    "a[1:] = given_seq[:]\n",
    "\n",
    "dp[0], a[0] = 0, 0\n",
    "\n",
    "for i in range(1, n+1):\n",
    "    for j in range(0, i):\n",
    "        if a[j] < a[i]:\n",
    "            dp[i] = max(dp[i], dp[j] + 1)\n",
    "\n",
    "answer = 0\n",
    "for i in range(n+1):\n",
    "    answer = max(answer, dp[i])\n",
    "    \n",
    "print(answer)"
   ]
  },
  {
   "cell_type": "code",
   "execution_count": null,
   "metadata": {},
   "outputs": [],
   "source": []
  },
  {
   "cell_type": "code",
   "execution_count": null,
   "metadata": {},
   "outputs": [],
   "source": []
  },
  {
   "cell_type": "code",
   "execution_count": null,
   "metadata": {},
   "outputs": [],
   "source": []
  },
  {
   "cell_type": "code",
   "execution_count": null,
   "metadata": {},
   "outputs": [],
   "source": []
  },
  {
   "cell_type": "code",
   "execution_count": null,
   "metadata": {},
   "outputs": [],
   "source": []
  }
 ],
 "metadata": {
  "kernelspec": {
   "display_name": "Python 3",
   "language": "python",
   "name": "python3"
  },
  "language_info": {
   "codemirror_mode": {
    "name": "ipython",
    "version": 3
   },
   "file_extension": ".py",
   "mimetype": "text/x-python",
   "name": "python",
   "nbconvert_exporter": "python",
   "pygments_lexer": "ipython3",
   "version": "3.7.6"
  }
 },
 "nbformat": 4,
 "nbformat_minor": 4
}
