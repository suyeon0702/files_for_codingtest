{
 "cells": [
  {
   "cell_type": "code",
   "execution_count": 21,
   "metadata": {},
   "outputs": [
    {
     "name": "stdout",
     "output_type": "stream",
     "text": [
      "0\n",
      "[0, 1, 2, 3]\n"
     ]
    }
   ],
   "source": [
    "lst = [[0, 1, 2, 3], [1, 2, 3, 4]]\n",
    "lst1 = [0, 1]\n",
    "lst2 = [2, 3]\n",
    "print(lst.index([0, 1, 2, 3]))\n",
    "print(lst1 + lst2)"
   ]
  },
  {
   "cell_type": "code",
   "execution_count": 17,
   "metadata": {},
   "outputs": [
    {
     "name": "stdout",
     "output_type": "stream",
     "text": [
      "5 5\n",
      "1 1 0\n",
      "1 1 1 1 1\n",
      "1 0 0 0 1\n",
      "1 0 1 0 1\n",
      "1 0 0 0 1\n",
      "1 1 1 1 1\n",
      "8\n"
     ]
    }
   ],
   "source": [
    "import sys\n",
    "# 자율주행 자동차\n",
    "\n",
    "# n, m 입력\n",
    "n, m = tuple(map(int, input().split()))\n",
    "# x, y, d 입력\n",
    "x, y, d = tuple(map(int, input().split()))\n",
    "# 도로의 상태 입력\n",
    "rode = [list(map(int, input().split())) for _ in range(n)]\n",
    "\n",
    "# 방문한 곳인지 (O: 1, X: 0)\n",
    "visited = [[0 for _ in range(m)] for _ in range(n)]\n",
    "\n",
    "# 범위 안인지(함수)\n",
    "def InRange(x, y):\n",
    "    return 0 <= x and x < n and 0 <= y and y < m\n",
    "# 갈 수 있는지(함수)\n",
    "def CanGo(x, y):\n",
    "    return InRange(x, y) and not rode[x][y] and not visited[x][y]\n",
    "\n",
    "# 방향바꾸면서 진행하는....\n",
    "\n",
    "def Ride(xi, yi, di):\n",
    "    \n",
    "    d_cnt = 0\n",
    "    dxs = [-1, 0, 1, 0]\n",
    "    dys = [0, 1, 0, -1]\n",
    "    \n",
    "    for i in range(di-1, di-5, -1):\n",
    "        new_x = xi + dxs[i]\n",
    "        new_y = yi + dys[i]\n",
    "        \n",
    "        if CanGo(new_x, new_y):\n",
    "            visited[new_x][new_y] = 1\n",
    "            Ride(new_x, new_y, (i+4)%4)\n",
    "        else:\n",
    "            d_cnt += 0\n",
    "    \n",
    "    if d_cnt == 4:\n",
    "        Back_and_Ride(xi, yi, di)\n",
    "        \n",
    "            \n",
    "def Back_and_Ride(xi, yi, di):\n",
    "    \n",
    "    back_dxs = [1, 0, -1, 0]\n",
    "    back_dys = [0, -1, 0, 1]\n",
    "    \n",
    "    new_x = xi + back_dxs[di]\n",
    "    new_y = yi + back_dys[di]\n",
    "    \n",
    "    if not InRange(new_x, new_y) and rode[new_x][new_y]:\n",
    "        sys.exit(0)\n",
    "        \n",
    "    Ride(new_x, new_y, di)\n",
    "\n",
    "visited[x][y] = 1\n",
    "Ride(x, y, d)\n",
    "\n",
    "result = 0\n",
    "for i in range(n):\n",
    "    result += sum(visited[i])\n",
    "print(result)"
   ]
  },
  {
   "cell_type": "code",
   "execution_count": 27,
   "metadata": {},
   "outputs": [
    {
     "name": "stdout",
     "output_type": "stream",
     "text": [
      "3 2\n",
      "0 1 2\n",
      "0 0 2\n",
      "2 1 0\n",
      "4\n"
     ]
    }
   ],
   "source": [
    "n, m = tuple(map(int, input().split()))\n",
    "grid_a = [list(map(int, input().split())) for _ in range(n)]\n",
    "\n",
    "p_num = 0\n",
    "h_num = 0\n",
    "px, py = [], []\n",
    "hx, hy = [], []\n",
    "dist_lst = []\n",
    "for i in range(n):\n",
    "    for j in range(n):\n",
    "        a = grid_a[i][j]\n",
    "        if a == 1:\n",
    "            p_num += 1\n",
    "            px.append(i)\n",
    "            py.append(j)\n",
    "        if a == 2:\n",
    "            h_num += 2\n",
    "            hx.append(i)\n",
    "            hy.append(j)\n",
    "\n",
    "def get_dist(hx_lst, hy_lst):\n",
    "    for i in range(len(hx_lst)):\n",
    "        a1 = hx_lst[i]\n",
    "        b1 = hy_lst[i]\n",
    "        dist = []\n",
    "        for j in range(p_num):\n",
    "            a2 = px[j]\n",
    "            b2 = py[j]\n",
    "            \n",
    "            distx = a1 - a2\n",
    "            disty = b1 - b2\n",
    "            \n",
    "            if distx < 0 :\n",
    "                distx = -distx\n",
    "            if disty < 0 :\n",
    "                disty = -disty\n",
    "                \n",
    "            dist.append(distx + disty)\n",
    "        dist_lst.append(sum(dist))\n",
    "            \n",
    "            \n",
    "            \n",
    "# 병원 없애기(근데 이제 경우가 여럿인)\n",
    "def remove_hospital(hx, hy, cnt):\n",
    "    if cnt == 0:\n",
    "        \n",
    "        return\n",
    "    for i in range(h_num):\n",
    "        hx_lst = hx[:i] + hx[i+1:]\n",
    "        hy_lst = hy[:i] + hy[i+1:]\n",
    "        remove_hospital(hx_lst, hy_lst, cnt-1)\n",
    "        get_dist(hx, hy)\n",
    "        \n",
    "remove_hospital(hx, hy, h_num - m)\n",
    "print(min(dist_lst))"
   ]
  },
  {
   "cell_type": "code",
   "execution_count": 55,
   "metadata": {},
   "outputs": [
    {
     "name": "stdout",
     "output_type": "stream",
     "text": [
      "4\n",
      "1 2 3 4\n",
      "8 7 6 5\n",
      "9 10 11 12\n",
      "16 15 14 13\n"
     ]
    }
   ],
   "source": [
    "n = int(input())\n",
    "\n",
    "for i in range(n):\n",
    "    if i%2 == 0 :\n",
    "        for j in range(n):\n",
    "            j += 1\n",
    "            if(j == n):\n",
    "                print(i*n + j)\n",
    "            else:\n",
    "                print(i*n + j, end = ' ')\n",
    "    else:\n",
    "        for k in range(n, 0, -1):\n",
    "            if(k == 1):\n",
    "                print(i*n + k)\n",
    "            else:\n",
    "                print(i*n + k, end = ' ')"
   ]
  },
  {
   "cell_type": "code",
   "execution_count": 31,
   "metadata": {},
   "outputs": [
    {
     "name": "stdout",
     "output_type": "stream",
     "text": [
      "3 5\n",
      "0.59999999999999997780\n"
     ]
    }
   ],
   "source": [
    "a, b = map(int, input().split())\n",
    "print('{:>.20f}'.format(a/b))"
   ]
  },
  {
   "cell_type": "code",
   "execution_count": 14,
   "metadata": {},
   "outputs": [
    {
     "name": "stdout",
     "output_type": "stream",
     "text": [
      "3\n",
      "2\n",
      "4\n",
      "6\n",
      "0\n",
      "\n",
      "3 2 4 6 "
     ]
    }
   ],
   "source": [
    "k = []\n",
    "while(1):\n",
    "    n = input()\n",
    "    if (n != ''):\n",
    "        k.append(n)\n",
    "    else :\n",
    "        break\n",
    "        \n",
    "for i in k:\n",
    "    if int(i) != 0:\n",
    "        print(i, end = ' ')\n",
    "    else:\n",
    "        break"
   ]
  }
 ],
 "metadata": {
  "kernelspec": {
   "display_name": "Python 3",
   "language": "python",
   "name": "python3"
  },
  "language_info": {
   "codemirror_mode": {
    "name": "ipython",
    "version": 3
   },
   "file_extension": ".py",
   "mimetype": "text/x-python",
   "name": "python",
   "nbconvert_exporter": "python",
   "pygments_lexer": "ipython3",
   "version": "3.7.6"
  }
 },
 "nbformat": 4,
 "nbformat_minor": 4
}
